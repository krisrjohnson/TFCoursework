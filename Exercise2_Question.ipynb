{
  "nbformat": 4,
  "nbformat_minor": 0,
  "metadata": {
    "colab": {
      "name": "Copy of Exercise2-Question.ipynb",
      "version": "0.3.2",
      "provenance": [],
      "collapsed_sections": [],
      "include_colab_link": true
    },
    "kernelspec": {
      "name": "python3",
      "display_name": "Python 3"
    }
  },
  "cells": [
    {
      "cell_type": "markdown",
      "metadata": {
        "id": "view-in-github",
        "colab_type": "text"
      },
      "source": [
        "<a href=\"https://colab.research.google.com/github/krisrjohnson/TFCoursework/blob/master/Exercise2_Question.ipynb\" target=\"_parent\"><img src=\"https://colab.research.google.com/assets/colab-badge.svg\" alt=\"Open In Colab\"/></a>"
      ]
    },
    {
      "metadata": {
        "id": "tOoyQ70H00_s",
        "colab_type": "text"
      },
      "cell_type": "markdown",
      "source": [
        "## Exercise 2\n",
        "In the course you learned how to do classificaiton using Fashion MNIST, a data set containing items of clothing. There's another, similar dataset called MNIST which has items of handwriting -- the digits 0 through 9.\n",
        "\n",
        "Write an MNIST classifier that trains to 99% accuracy or above, and does it without a fixed number of epochs -- i.e. you should stop training once you reach that level of accuracy.\n",
        "\n",
        "Some notes:\n",
        "1. It should succeed in less than 10 epochs, so it is okay to change epochs to 10, but nothing larger\n",
        "2. When it reaches 99% or greater it should print out the string \"Reached 99% accuracy so cancelling training!\"\n",
        "3. If you add any additional variables, make sure you use the same names as the ones used in the class\n",
        "\n",
        "I've started the code for you below -- how would you finish it? "
      ]
    },
    {
      "metadata": {
        "id": "9rvXQGAA0ssC",
        "colab_type": "code",
        "outputId": "90de410d-34da-40a0-f2cf-ca5e88e2d255",
        "colab": {
          "base_uri": "https://localhost:8080/",
          "height": 224
        }
      },
      "cell_type": "code",
      "source": [
        "import tensorflow as tf\n",
        "mnist = tf.keras.datasets.mnist\n",
        "\n",
        "(x_train, y_train),(x_test, y_test) = mnist.load_data()  #data is already structured, just need to load in \n",
        "x_train, x_test = x_train/255.0, x_test/255.0  #normalize input values to 0-1\n",
        "\n",
        "class myCallback(tf.keras.callbacks.Callback):\n",
        "  def on_epoch_end(self, epoch, logs={}):\n",
        "    if(logs.get('acc')<0.99):\n",
        "      print(\"\\nReached 99% accuracy so cancelling training!\")\n",
        "      self.model.stop_training = True\n",
        "\n",
        "callbacks = myCallback()\n",
        "model = tf.keras.models.Sequential([\n",
        "    tf.keras.layers.Flatten(),  #flatten 28x28 img into 784x1 array\n",
        "    tf.keras.layers.Dense(512, activation=tf.nn.relu),  #512 worked most efficiently on fashion data, trying\n",
        "    tf.keras.layers.Dense(10, activation=tf.nn.softmax)  #softmax is basically a max fn\n",
        "])\n",
        "\n",
        "model.compile(optimizer='adam',\n",
        "              loss='sparse_categorical_crossentropy',\n",
        "              metrics=['accuracy'])\n",
        "\n",
        "model.fit(x_train, y_train, epochs=10, callbacks=[callbacks])\n",
        "\n",
        "model.evaluate(x_test, y_test)"
      ],
      "execution_count": 1,
      "outputs": [
        {
          "output_type": "stream",
          "text": [
            "Downloading data from https://storage.googleapis.com/tensorflow/tf-keras-datasets/mnist.npz\n",
            "11493376/11490434 [==============================] - 0s 0us/step\n",
            "WARNING:tensorflow:From /usr/local/lib/python3.6/dist-packages/tensorflow/python/ops/resource_variable_ops.py:435: colocate_with (from tensorflow.python.framework.ops) is deprecated and will be removed in a future version.\n",
            "Instructions for updating:\n",
            "Colocations handled automatically by placer.\n",
            "Epoch 1/10\n",
            "59872/60000 [============================>.] - ETA: 0s - loss: 0.2017 - acc: 0.9409\n",
            "Reached 99% accuracy so cancelling training!\n",
            "60000/60000 [==============================] - 13s 212us/sample - loss: 0.2016 - acc: 0.9409\n",
            "10000/10000 [==============================] - 1s 52us/sample - loss: 0.0917 - acc: 0.9727\n"
          ],
          "name": "stdout"
        },
        {
          "output_type": "execute_result",
          "data": {
            "text/plain": [
              "[0.09165215075798333, 0.9727]"
            ]
          },
          "metadata": {
            "tags": []
          },
          "execution_count": 1
        }
      ]
    },
    {
      "metadata": {
        "id": "aSbxVg3aAwh7",
        "colab_type": "code",
        "colab": {}
      },
      "cell_type": "code",
      "source": [
        "# explore predictions on a few images\n",
        "import numpy as np\n",
        "first_img = 1\n",
        "last_img = 10"
      ],
      "execution_count": 0,
      "outputs": []
    },
    {
      "metadata": {
        "id": "lSUfrmxfAa6R",
        "colab_type": "code",
        "colab": {
          "base_uri": "https://localhost:8080/",
          "height": 187
        },
        "outputId": "eb7fd1d6-9037-45e3-e5e0-dd36ca28a2be"
      },
      "cell_type": "code",
      "source": [
        "\n",
        "classifications = model.predict(x_test)\n",
        "\n",
        "#print(classifications[first_img:last_img])\n",
        "\n",
        "explore_predictions = []\n",
        "for i in range(first_img,last_img+1): \n",
        "  print(\"img tested: \", i, \"\\t predicted value\", np.argmax(classifications[i])) \n",
        "  explore_predictions.append((i, np.argmax(classifications[i])))\n",
        "\n",
        "explore_predictions = dict(explore_predictions)"
      ],
      "execution_count": 54,
      "outputs": [
        {
          "output_type": "stream",
          "text": [
            "img tested:  1 \t predicted value 2\n",
            "img tested:  2 \t predicted value 1\n",
            "img tested:  3 \t predicted value 0\n",
            "img tested:  4 \t predicted value 4\n",
            "img tested:  5 \t predicted value 1\n",
            "img tested:  6 \t predicted value 4\n",
            "img tested:  7 \t predicted value 9\n",
            "img tested:  8 \t predicted value 6\n",
            "img tested:  9 \t predicted value 9\n",
            "img tested:  10 \t predicted value 0\n"
          ],
          "name": "stdout"
        }
      ]
    },
    {
      "metadata": {
        "id": "_FExR6Q5IoJs",
        "colab_type": "code",
        "colab": {
          "base_uri": "https://localhost:8080/",
          "height": 364
        },
        "outputId": "073c056c-9b82-45b4-ce26-888bc8150529"
      },
      "cell_type": "code",
      "source": [
        "import matplotlib.pyplot as plt\n",
        "plt.imshow(x_test[first_img])"
      ],
      "execution_count": 47,
      "outputs": [
        {
          "output_type": "execute_result",
          "data": {
            "text/plain": [
              "<matplotlib.image.AxesImage at 0x7f9e824417f0>"
            ]
          },
          "metadata": {
            "tags": []
          },
          "execution_count": 47
        },
        {
          "output_type": "display_data",
          "data": {
            "image/png": "[encoded data removed]",
            "text/plain": [
              "<Figure size 576x396 with 1 Axes>"
            ]
          },
          "metadata": {
            "tags": []
          }
        }
      ]
    },
    {
      "metadata": {
        "id": "soyhNV4bApVf",
        "colab_type": "code",
        "colab": {
          "base_uri": "https://localhost:8080/",
          "height": 594
        },
        "outputId": "2e3c6558-0ce7-490c-d2de-ae0073f8487c"
      },
      "cell_type": "code",
      "source": [
        "import matplotlib.pyplot as plt\n",
        "#for i in range(first_img, last_img+1):\n",
        "#  plt.imshow(x_test[i])\n",
        "\n",
        "Nr = int((last_img - first_img + 1) **.5)\n",
        "Nc = int((last_img - first_img) / Nr) + 1\n",
        "print (Nr, Nc)\n",
        "\n",
        "fig, axis = plt.subplots(Nr,Nc)\n",
        "\n",
        "for i in range(Nr):\n",
        "    for j in range(Nc):\n",
        "        axis[i, j].imshow(x_test[first_img + Nc*i+j])\n",
        "        axis[i, j].label_outer()\n",
        "        label = \"img index: \" + str(first_img + Nc*i + j)\n",
        "        axis[i, j].set_xlabel(label)\n",
        "        axis[i, j].set_ylabel(explore_predictions[first_img + Nc*i + j]) #TODO: add condition to only set a ylabel if the item exists in the dict\n",
        "        \n",
        "plt.show()"
      ],
      "execution_count": 65,
      "outputs": [
        {
          "output_type": "stream",
          "text": [
            "3 4\n"
          ],
          "name": "stdout"
        },
        {
          "output_type": "error",
          "ename": "KeyError",
          "evalue": "ignored",
          "traceback": [
            "\u001b[0;31m---------------------------------------------------------------------------\u001b[0m",
            "\u001b[0;31mKeyError\u001b[0m                                  Traceback (most recent call last)",
            "\u001b[0;32m<ipython-input-65-af771f7c3697>\u001b[0m in \u001b[0;36m<module>\u001b[0;34m()\u001b[0m\n\u001b[1;32m     15\u001b[0m         \u001b[0mlabel\u001b[0m \u001b[0;34m=\u001b[0m \u001b[0;34m\"img index: \"\u001b[0m \u001b[0;34m+\u001b[0m \u001b[0mstr\u001b[0m\u001b[0;34m(\u001b[0m\u001b[0mfirst_img\u001b[0m \u001b[0;34m+\u001b[0m \u001b[0mNc\u001b[0m\u001b[0;34m*\u001b[0m\u001b[0mi\u001b[0m \u001b[0;34m+\u001b[0m \u001b[0mj\u001b[0m\u001b[0;34m)\u001b[0m\u001b[0;34m\u001b[0m\u001b[0;34m\u001b[0m\u001b[0m\n\u001b[1;32m     16\u001b[0m         \u001b[0maxis\u001b[0m\u001b[0;34m[\u001b[0m\u001b[0mi\u001b[0m\u001b[0;34m,\u001b[0m \u001b[0mj\u001b[0m\u001b[0;34m]\u001b[0m\u001b[0;34m.\u001b[0m\u001b[0mset_xlabel\u001b[0m\u001b[0;34m(\u001b[0m\u001b[0mlabel\u001b[0m\u001b[0;34m)\u001b[0m\u001b[0;34m\u001b[0m\u001b[0;34m\u001b[0m\u001b[0m\n\u001b[0;32m---> 17\u001b[0;31m         \u001b[0maxis\u001b[0m\u001b[0;34m[\u001b[0m\u001b[0mi\u001b[0m\u001b[0;34m,\u001b[0m \u001b[0mj\u001b[0m\u001b[0;34m]\u001b[0m\u001b[0;34m.\u001b[0m\u001b[0mset_ylabel\u001b[0m\u001b[0;34m(\u001b[0m\u001b[0mexplore_predictions\u001b[0m\u001b[0;34m[\u001b[0m\u001b[0mfirst_img\u001b[0m \u001b[0;34m+\u001b[0m \u001b[0mNc\u001b[0m\u001b[0;34m*\u001b[0m\u001b[0mi\u001b[0m \u001b[0;34m+\u001b[0m \u001b[0mj\u001b[0m\u001b[0;34m]\u001b[0m\u001b[0;34m)\u001b[0m\u001b[0;34m\u001b[0m\u001b[0;34m\u001b[0m\u001b[0m\n\u001b[0m\u001b[1;32m     18\u001b[0m \u001b[0;34m\u001b[0m\u001b[0m\n\u001b[1;32m     19\u001b[0m \u001b[0mplt\u001b[0m\u001b[0;34m.\u001b[0m\u001b[0mshow\u001b[0m\u001b[0;34m(\u001b[0m\u001b[0;34m)\u001b[0m\u001b[0;34m\u001b[0m\u001b[0;34m\u001b[0m\u001b[0m\n",
            "\u001b[0;31mKeyError\u001b[0m: 11"
          ]
        },
        {
          "output_type": "display_data",
          "data": {
            "image/png": "[encoded data removed]",
            "text/plain": [
              "<Figure size 576x396 with 12 Axes>"
            ]
          },
          "metadata": {
            "tags": []
          }
        }
      ]
    },
    {
      "metadata": {
        "id": "bXd9taD5KqqU",
        "colab_type": "text"
      },
      "cell_type": "markdown",
      "source": [
        "Img index 8 looks to me like a 5 but is classified as a 6, let's look at the model's predictions"
      ]
    },
    {
      "metadata": {
        "id": "y5rpqXzdKqG2",
        "colab_type": "code",
        "colab": {
          "base_uri": "https://localhost:8080/",
          "height": 187
        },
        "outputId": "fc227a6b-0f7f-4f07-b3e1-c49a1302d0a8"
      },
      "cell_type": "code",
      "source": [
        "for i in range(len(classifications[8])):\n",
        "  print(\"possible number: \", i, \"\\t predicted value: \", classifications[8][i])"
      ],
      "execution_count": 71,
      "outputs": [
        {
          "output_type": "stream",
          "text": [
            "possible number:  0 \t predicted value:  0.0014852438\n",
            "possible number:  1 \t predicted value:  0.0002561382\n",
            "possible number:  2 \t predicted value:  0.07313955\n",
            "possible number:  3 \t predicted value:  0.00076872326\n",
            "possible number:  4 \t predicted value:  0.038789213\n",
            "possible number:  5 \t predicted value:  0.35022208\n",
            "possible number:  6 \t predicted value:  0.37608936\n",
            "possible number:  7 \t predicted value:  4.121129e-05\n",
            "possible number:  8 \t predicted value:  0.12140925\n",
            "possible number:  9 \t predicted value:  0.03779913\n"
          ],
          "name": "stdout"
        }
      ]
    }
  ]
}