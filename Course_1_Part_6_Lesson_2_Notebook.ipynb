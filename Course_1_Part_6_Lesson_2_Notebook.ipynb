{
  "nbformat": 4,
  "nbformat_minor": 0,
  "metadata": {
    "colab": {
      "name": "Copy of Course 1 - Part 6 - Lesson 2 - Notebook.ipynb",
      "version": "0.3.2",
      "provenance": [],
      "collapsed_sections": [],
      "include_colab_link": true
    },
    "kernelspec": {
      "name": "python3",
      "display_name": "Python 3"
    },
    "accelerator": "GPU"
  },
  "cells": [
    {
      "cell_type": "markdown",
      "metadata": {
        "id": "view-in-github",
        "colab_type": "text"
      },
      "source": [
        "<a href=\"https://colab.research.google.com/github/krisrjohnson/TFCoursework/blob/master/Course_1_Part_6_Lesson_2_Notebook.ipynb\" target=\"_parent\"><img src=\"https://colab.research.google.com/assets/colab-badge.svg\" alt=\"Open In Colab\"/></a>"
      ]
    },
    {
      "metadata": {
        "id": "R6gHiH-I7uFa",
        "colab_type": "text"
      },
      "cell_type": "markdown",
      "source": [
        "#Improving Computer Vision Accuracy using Convolutions\n",
        "\n",
        "In the previous lessons you saw how to do fashion recognition using a Deep Neural Network (DNN) containing three layers -- the input layer (in the shape of the data), the output layer (in the shape of the desired output) and a hidden layer. You experimented with the impact of different sized of hidden layer, number of training epochs etc on the final accuracy.\n",
        "\n",
        "For convenience, here's the entire code again. Run it and take a note of the test accuracy that is printed out at the end. "
      ]
    },
    {
      "metadata": {
        "id": "xcsRtq9OLorS",
        "colab_type": "code",
        "outputId": "59283671-13b1-4889-b612-cd95709d8d8f",
        "colab": {
          "base_uri": "https://localhost:8080/",
          "height": 417
        }
      },
      "cell_type": "code",
      "source": [
        "#this is the basic single hidden neuron Deep Neural Network\n",
        "import tensorflow as tf\n",
        "mnist = tf.keras.datasets.fashion_mnist\n",
        "(training_images, training_labels), (test_images, test_labels) = mnist.load_data() #load data\n",
        "training_images, test_images=training_images / 255.0, test_images/255.0 # normalize data (range is now 0:1)\n",
        "\n",
        "model = tf.keras.models.Sequential([\n",
        "  tf.keras.layers.Flatten(),\n",
        "  tf.keras.layers.Dense(128, activation=tf.nn.relu),\n",
        "  tf.keras.layers.Dense(10, activation=tf.nn.softmax)\n",
        "])\n",
        "model.compile(optimizer='adam', loss='sparse_categorical_crossentropy', metrics=['accuracy'])\n",
        "model.fit(training_images, training_labels, epochs=5)\n",
        "\n",
        "test_loss = model.evaluate(test_images, test_labels)"
      ],
      "execution_count": 0,
      "outputs": [
        {
          "output_type": "stream",
          "text": [
            "Downloading data from https://storage.googleapis.com/tensorflow/tf-keras-datasets/train-labels-idx1-ubyte.gz\n",
            "32768/29515 [=================================] - 0s 0us/step\n",
            "Downloading data from https://storage.googleapis.com/tensorflow/tf-keras-datasets/train-images-idx3-ubyte.gz\n",
            "26427392/26421880 [==============================] - 0s 0us/step\n",
            "Downloading data from https://storage.googleapis.com/tensorflow/tf-keras-datasets/t10k-labels-idx1-ubyte.gz\n",
            "8192/5148 [===============================================] - 0s 0us/step\n",
            "Downloading data from https://storage.googleapis.com/tensorflow/tf-keras-datasets/t10k-images-idx3-ubyte.gz\n",
            "4423680/4422102 [==============================] - 0s 0us/step\n",
            "WARNING:tensorflow:From /usr/local/lib/python3.6/dist-packages/tensorflow/python/ops/resource_variable_ops.py:435: colocate_with (from tensorflow.python.framework.ops) is deprecated and will be removed in a future version.\n",
            "Instructions for updating:\n",
            "Colocations handled automatically by placer.\n",
            "Epoch 1/5\n",
            "60000/60000 [==============================] - 8s 130us/sample - loss: 0.4984 - acc: 0.8241\n",
            "Epoch 2/5\n",
            "60000/60000 [==============================] - 7s 117us/sample - loss: 0.3743 - acc: 0.8656\n",
            "Epoch 3/5\n",
            "60000/60000 [==============================] - 7s 115us/sample - loss: 0.3378 - acc: 0.8759\n",
            "Epoch 4/5\n",
            "60000/60000 [==============================] - 7s 115us/sample - loss: 0.3117 - acc: 0.8856\n",
            "Epoch 5/5\n",
            "60000/60000 [==============================] - 7s 118us/sample - loss: 0.2956 - acc: 0.8914\n",
            "10000/10000 [==============================] - 1s 74us/sample - loss: 0.3603 - acc: 0.8722\n"
          ],
          "name": "stdout"
        }
      ]
    },
    {
      "metadata": {
        "id": "zldEXSsF8Noz",
        "colab_type": "text"
      },
      "cell_type": "markdown",
      "source": [
        "Your accuracy is probably about 89% on training and 87% on validation...not bad...But how do you make that even better? One way is to use something called Convolutions. I'm not going to details on Convolutions here, but the ultimate concept is that they narrow down the content of the image to focus on specific, distinct, details. \n",
        "\n",
        "If you've ever done image processing using a filter (like this: https://en.wikipedia.org/wiki/Kernel_(image_processing)) then convolutions will look very familiar.\n",
        "\n",
        "In short, you take an array (usually 3x3 or 5x5) and pass it over the image. By changing the underlying pixels based on the formula within that matrix, you can do things like edge detection. So, for example, if you look at the above link, you'll see a 3x3 that is defined for edge detection where the middle cell is 8, and all of its neighbors are -1. In this case, for each pixel, you would multiply its value by 8, then subtract the value of each neighbor. Do this for every pixel, and you'll end up with a new image that has the edges enhanced.\n",
        "\n",
        "This is perfect for computer vision, because often it's features that can get highlighted like this that distinguish one item for another, and the amount of information needed is then much less...because you'll just train on the highlighted features.\n",
        "\n",
        "That's the concept of Convolutional Neural Networks. Add some layers to do convolution before you have the dense layers, and then the information going to the dense layers is more focussed, and possibly more accurate.\n",
        "\n",
        "Run the below code -- this is the same neural network as earlier, but this time with Convolutional layers added first. It will take longer, but look at the impact on the accuracy:"
      ]
    },
    {
      "metadata": {
        "id": "zbLix3S1GQJv",
        "colab_type": "code",
        "outputId": "1396b6c3-5f19-4428-dc9f-8012912ea827",
        "colab": {
          "base_uri": "https://localhost:8080/",
          "height": 34
        }
      },
      "cell_type": "code",
      "source": [
        "(test_loss, test_acc) = model.evaluate(test_images, test_labels)"
      ],
      "execution_count": 11,
      "outputs": [
        {
          "output_type": "stream",
          "text": [
            "10000/10000 [==============================] - 1s 98us/sample - loss: 0.4462 - acc: 0.9133\n"
          ],
          "name": "stdout"
        }
      ]
    },
    {
      "metadata": {
        "id": "uRLfZ0jt-fQI",
        "colab_type": "text"
      },
      "cell_type": "markdown",
      "source": [
        "It's likely gone up to about 93% on the training data and 91% on the validation data. \n",
        "\n",
        "That's significant, and a step in the right direction!\n",
        "\n",
        "Try running it for more epochs -- say about 20, and explore the results! But while the results might seem really good, the validation results may actually go down, due to something called 'overfitting' which will be discussed later. \n",
        "\n",
        "(In a nutshell, 'overfitting' occurs when the network learns the data from the training set really well, but it's too specialised to only that data, and as a result is less effective at seeing *other* data. For example, if all your life you only saw red shoes, then when you see a red shoe you would be very good at identifying it, but blue suade shoes might confuse you...and you know you should never mess with my blue suede shoes.)\n",
        "\n",
        "Then, look at the code again, and see, step by step how the Convolutions were built:"
      ]
    },
    {
      "metadata": {
        "id": "RaLX5cgI_JDb",
        "colab_type": "text"
      },
      "cell_type": "markdown",
      "source": [
        "Step 1 is to gather the data. You'll notice that there's a bit of a change here in that the training data needed to be reshaped. That's because the first convolution expects a single tensor containing everything, so instead of 60,000 28x28x1 items in a list, we have a single 4D list that is 60,000x28x28x1, and the same for the test images. If you don't do this, you'll get an error when training as the Convolutions do not recognize the shape. \n",
        "\n",
        "\n",
        "\n",
        "```\n",
        "import tensorflow as tf\n",
        "mnist = tf.keras.datasets.fashion_mnist\n",
        "(training_images, training_labels), (test_images, test_labels) = mnist.load_data()\n",
        "training_images=training_images.reshape(60000, 28, 28, 1)\n",
        "training_images=training_images / 255.0\n",
        "test_images = test_images.reshape(10000, 28, 28, 1)\n",
        "test_images=test_images/255.0\n",
        "```\n",
        "\n"
      ]
    },
    {
      "metadata": {
        "id": "SS_W_INc_kJQ",
        "colab_type": "text"
      },
      "cell_type": "markdown",
      "source": [
        "Next is to define your model. Now instead of the input layer at the top, you're going to add a Convolution. The parameters are:\n",
        "\n",
        "1. The number of convolutions you want to generate. Purely arbitrary, but good to start with something in the order of 32\n",
        "2. The size of the Convolution, in this case a 3x3 grid\n",
        "3. The activation function to use -- in this case we'll use relu, which you might recall is the equivalent of returning x when x>0, else returning 0\n",
        "4. In the first layer, the shape of the input data.\n",
        "\n",
        "You'll follow the Convolution with a MaxPooling layer which is then designed to compress the image, while maintaining the content of the features that were highlighted by the convolution. By specifying (2,2) for the MaxPooling, the effect is to quarter the size of the image. Without going into too much detail here, the idea is that it creates a 2x2 array of pixels, and picks the biggest one, thus turning 4 pixels into 1. It repeats this across the image, and in so doing halves the number of horizontal, and halves the number of vertical pixels, effectively reducing the image by 25%.\n",
        "\n",
        "You can call model.summary() to see the size and shape of the network, and you'll notice that after every MaxPooling layer, the image size is reduced in this way. \n",
        "\n",
        "\n",
        "```\n",
        "model = tf.keras.models.Sequential([\n",
        "  tf.keras.layers.Conv2D(32, (3,3), activation='relu', input_shape=(28, 28, 1)),\n",
        "  tf.keras.layers.MaxPooling2D(2, 2),\n",
        "```\n",
        "\n"
      ]
    },
    {
      "metadata": {
        "id": "RMorM6daADjA",
        "colab_type": "text"
      },
      "cell_type": "markdown",
      "source": [
        "Add another convolution\n",
        "\n",
        "\n",
        "\n",
        "```\n",
        "  tf.keras.layers.Conv2D(64, (3,3), activation='relu'),\n",
        "  tf.keras.layers.MaxPooling2D(2,2)\n",
        "```\n",
        "\n"
      ]
    },
    {
      "metadata": {
        "colab_type": "text",
        "id": "b1-x-kZF4_tC"
      },
      "cell_type": "markdown",
      "source": [
        "Now flatten the output. After this you'll just have the same DNN structure as the non convolutional version\n",
        "\n",
        "```\n",
        "  tf.keras.layers.Flatten(),\n",
        "```\n",
        "\n"
      ]
    },
    {
      "metadata": {
        "id": "qPtqR23uASjX",
        "colab_type": "text"
      },
      "cell_type": "markdown",
      "source": [
        "The same 128 dense layers, and 10 output layers as in the pre-convolution example:\n",
        "\n",
        "\n",
        "\n",
        "```\n",
        "  tf.keras.layers.Dense(128, activation='relu'),\n",
        "  tf.keras.layers.Dense(10, activation='softmax')\n",
        "])\n",
        "```\n",
        "\n"
      ]
    },
    {
      "metadata": {
        "id": "C0GSsjUhAaSj",
        "colab_type": "text"
      },
      "cell_type": "markdown",
      "source": [
        "Now compile the model, call the fit method to do the training, and evaluate the loss and accuracy from the test set.\n",
        "\n",
        "\n",
        "\n",
        "```\n",
        "model.compile(optimizer='adam', loss='sparse_categorical_crossentropy', metrics=['accuracy'])\n",
        "model.fit(training_images, training_labels, epochs=5)\n",
        "test_loss, test_acc = model.evaluate(test_images, test_labels)\n",
        "print(test_acc)\n",
        "```\n",
        "\n",
        "\n"
      ]
    },
    {
      "metadata": {
        "id": "IXx_LX3SAlFs",
        "colab_type": "text"
      },
      "cell_type": "markdown",
      "source": [
        "# Visualizing the Convolutions and Pooling\n",
        "\n",
        "This code will show us the convolutions graphically. The print (test_labels[;100]) shows us the first 100 labels in the test set, and you can see that the ones at index 0, index 23 and index 28 are all the same value (9). They're all shoes. Let's take a look at the result of running the convolution on each, and you'll begin to see common features between them emerge. Now, when the DNN is training on that data, it's working with a lot less, and it's perhaps finding a commonality between shoes based on this convolution/pooling combination."
      ]
    },
    {
      "metadata": {
        "id": "f-6nX4QsOku6",
        "colab_type": "code",
        "outputId": "4397048e-daf2-486b-e87d-bff4d10a040d",
        "colab": {
          "base_uri": "https://localhost:8080/",
          "height": 68
        }
      },
      "cell_type": "code",
      "source": [
        "import matplotlib.pyplot as plt\n",
        "import numpy as np\n",
        "\n",
        "label_num = 3\n",
        "print(test_labels[:100])\n",
        "\n",
        "first_100_same = []\n",
        "for i in range(100):\n",
        "  if (test_labels[i]==label_num):\n",
        "    first_100_same.append(i)\n",
        "    #print (i)\n",
        "\n",
        "FIRST_IMAGE=first_100_same[0]\n",
        "SECOND_IMAGE=first_100_same[1]\n",
        "THIRD_IMAGE=first_100_same[2]\n",
        "#np.squeeze(test_images[FIRST_IMAGE]).shape"
      ],
      "execution_count": 70,
      "outputs": [
        {
          "output_type": "stream",
          "text": [
            "[9 2 1 1 6 1 4 6 5 7 4 5 7 3 4 1 2 4 8 0 2 5 7 9 1 4 6 0 9 3 8 8 3 3 8 0 7\n",
            " 5 7 9 6 1 3 7 6 7 2 1 2 2 4 4 5 8 2 2 8 4 8 0 7 7 8 5 1 1 2 3 9 8 7 0 2 6\n",
            " 2 3 1 2 8 4 1 8 5 9 5 0 3 2 0 6 5 3 6 7 1 8 0 1 4 2]\n"
          ],
          "name": "stdout"
        }
      ]
    },
    {
      "metadata": {
        "id": "C0tFgT1MMKi6",
        "colab_type": "code",
        "outputId": "470bb80f-8d70-49a8-9b15-c4dbe8bb8689",
        "colab": {
          "base_uri": "https://localhost:8080/",
          "height": 1088
        }
      },
      "cell_type": "code",
      "source": [
        "import tensorflow as tf\n",
        "print(tf.__version__)\n",
        "\n",
        "#data loading and reshaping\n",
        "mnist = tf.keras.datasets.fashion_mnist\n",
        "(training_images, training_labels), (test_images, test_labels) = mnist.load_data()\n",
        "training_images=training_images.reshape(60000, 28, 28, 1)\n",
        "training_images=training_images / 255.0\n",
        "test_images = test_images.reshape(10000, 28, 28, 1)\n",
        "test_images=test_images/255.0\n",
        "\n",
        "#model compilation and fit\n",
        "model = tf.keras.models.Sequential([\n",
        "  tf.keras.layers.Conv2D(64, (3,3), activation='relu', input_shape=(28, 28, 1)),\n",
        "  tf.keras.layers.MaxPooling2D(2, 2),\n",
        "  tf.keras.layers.Conv2D(64, (3,3), activation='relu'),\n",
        "  tf.keras.layers.MaxPooling2D(2,2),\n",
        "  tf.keras.layers.Flatten(),\n",
        "  tf.keras.layers.Dense(128, activation='relu'),\n",
        "  tf.keras.layers.Dense(10, activation='softmax')\n",
        "])\n",
        "model.compile(optimizer='adam', loss='sparse_categorical_crossentropy', metrics=['accuracy'])\n",
        "model.summary()\n",
        "model.fit(training_images, training_labels, epochs=20)\n",
        "\n",
        "#basic model evaluation\n",
        "(test_loss, test_acc) = model.evaluate(test_images, test_labels)\n"
      ],
      "execution_count": 105,
      "outputs": [
        {
          "output_type": "stream",
          "text": [
            "1.13.1\n",
            "_________________________________________________________________\n",
            "Layer (type)                 Output Shape              Param #   \n",
            "=================================================================\n",
            "conv2d_25 (Conv2D)           (None, 26, 26, 64)        640       \n",
            "_________________________________________________________________\n",
            "max_pooling2d_23 (MaxPooling (None, 13, 13, 64)        0         \n",
            "_________________________________________________________________\n",
            "conv2d_26 (Conv2D)           (None, 11, 11, 64)        36928     \n",
            "_________________________________________________________________\n",
            "max_pooling2d_24 (MaxPooling (None, 5, 5, 64)          0         \n",
            "_________________________________________________________________\n",
            "flatten_17 (Flatten)         (None, 1600)              0         \n",
            "_________________________________________________________________\n",
            "dense_34 (Dense)             (None, 128)               204928    \n",
            "_________________________________________________________________\n",
            "dense_35 (Dense)             (None, 10)                1290      \n",
            "=================================================================\n",
            "Total params: 243,786\n",
            "Trainable params: 243,786\n",
            "Non-trainable params: 0\n",
            "_________________________________________________________________\n",
            "Epoch 1/20\n",
            "60000/60000 [==============================] - 16s 259us/sample - loss: 0.4439 - acc: 0.8373\n",
            "Epoch 2/20\n",
            "60000/60000 [==============================] - 15s 253us/sample - loss: 0.2953 - acc: 0.8918\n",
            "Epoch 3/20\n",
            "60000/60000 [==============================] - 15s 252us/sample - loss: 0.2489 - acc: 0.9078\n",
            "Epoch 4/20\n",
            "60000/60000 [==============================] - 15s 252us/sample - loss: 0.2156 - acc: 0.9196\n",
            "Epoch 5/20\n",
            "60000/60000 [==============================] - 15s 253us/sample - loss: 0.1897 - acc: 0.9288\n",
            "Epoch 6/20\n",
            "60000/60000 [==============================] - 15s 252us/sample - loss: 0.1655 - acc: 0.9381\n",
            "Epoch 7/20\n",
            "60000/60000 [==============================] - 15s 252us/sample - loss: 0.1476 - acc: 0.9449\n",
            "Epoch 8/20\n",
            "60000/60000 [==============================] - 15s 252us/sample - loss: 0.1302 - acc: 0.9508\n",
            "Epoch 9/20\n",
            "60000/60000 [==============================] - 15s 252us/sample - loss: 0.1141 - acc: 0.9571\n",
            "Epoch 10/20\n",
            "60000/60000 [==============================] - 15s 251us/sample - loss: 0.1010 - acc: 0.9611\n",
            "Epoch 11/20\n",
            "60000/60000 [==============================] - 15s 252us/sample - loss: 0.0906 - acc: 0.9660\n",
            "Epoch 12/20\n",
            "60000/60000 [==============================] - 15s 253us/sample - loss: 0.0793 - acc: 0.9702\n",
            "Epoch 13/20\n",
            "60000/60000 [==============================] - 15s 251us/sample - loss: 0.0734 - acc: 0.9720\n",
            "Epoch 14/20\n",
            "60000/60000 [==============================] - 15s 251us/sample - loss: 0.0640 - acc: 0.9766\n",
            "Epoch 15/20\n",
            "60000/60000 [==============================] - 15s 252us/sample - loss: 0.0579 - acc: 0.9776\n",
            "Epoch 16/20\n",
            "60000/60000 [==============================] - 15s 251us/sample - loss: 0.0525 - acc: 0.9804\n",
            "Epoch 17/20\n",
            "60000/60000 [==============================] - 15s 252us/sample - loss: 0.0493 - acc: 0.9818\n",
            "Epoch 18/20\n",
            "60000/60000 [==============================] - 15s 252us/sample - loss: 0.0462 - acc: 0.9829\n",
            "Epoch 19/20\n",
            "60000/60000 [==============================] - 15s 252us/sample - loss: 0.0432 - acc: 0.9836\n",
            "Epoch 20/20\n",
            "60000/60000 [==============================] - 15s 253us/sample - loss: 0.0363 - acc: 0.9863\n",
            "10000/10000 [==============================] - 1s 133us/sample - loss: 0.4724 - acc: 0.9104\n"
          ],
          "name": "stdout"
        }
      ]
    },
    {
      "metadata": {
        "id": "muENv4lWa_CU",
        "colab_type": "code",
        "outputId": "aa9498a7-adfe-4a23-fb87-5454396ceb54",
        "colab": {
          "base_uri": "https://localhost:8080/",
          "height": 181
        }
      },
      "cell_type": "code",
      "source": [
        "#test_images = test_images.reshape(10000, 28, 28, 1)\n",
        "#plt.imshow(np.squeeze(test_images[FIRST_IMAGE]))\n",
        "\n",
        "fig, axis = plt.subplots(1,3)\n",
        "\n",
        "axis[0].imshow(np.squeeze(test_images[FIRST_IMAGE])) #using squeeze to get rid of the 1 in (28, 28, 1) shape\n",
        "axis[0].label_outer()\n",
        "axis[1].imshow(np.squeeze(test_images[SECOND_IMAGE])) #which is a color scale indicator (3 would be RGB)\n",
        "axis[1].label_outer()\n",
        "axis[2].imshow(np.squeeze(test_images[THIRD_IMAGE]))\n",
        "axis[2].label_outer()\n",
        "\n",
        "plt.show()"
      ],
      "execution_count": 71,
      "outputs": [
        {
          "output_type": "display_data",
          "data": {
            "image/png": "[encoded data removed]",
            "text/plain": [
              "<Figure size 576x396 with 3 Axes>"
            ]
          },
          "metadata": {
            "tags": []
          }
        }
      ]
    },
    {
      "metadata": {
        "id": "9FGsHhv6JvDx",
        "colab_type": "code",
        "outputId": "52d4ff99-abbd-4d02-81c9-aa59b45b3b08",
        "colab": {
          "base_uri": "https://localhost:8080/",
          "height": 349
        }
      },
      "cell_type": "code",
      "source": [
        "\n",
        "CONVOLUTION_NUMBER = 1\n",
        "\n",
        "#new plot figure, f, with axis array, axarr:\n",
        "f, axarr = plt.subplots(3,4)\n",
        "\n",
        "from tensorflow.keras import models\n",
        "\n",
        "#extracting the different layers of the model to be able to visualize all 4 layers (0:CNN,1:Pool,2:CNN,3:Pool)\n",
        "layer_outputs = [layer.output for layer in model.layers]\n",
        "activation_model = tf.keras.models.Model(inputs = model.input, outputs = layer_outputs)\n",
        "\n",
        "for x in range(4): #iterate over the first 4 layers #edited range(0,4) to range(4), same thing\n",
        "  f1 = activation_model.predict(test_images[FIRST_IMAGE].reshape(1, 28, 28, 1))[x]\n",
        "  axarr[0,x].imshow(f1[0, : , :, CONVOLUTION_NUMBER], cmap='inferno')\n",
        "  axarr[0,x].grid(False)\n",
        "  f2 = activation_model.predict(test_images[SECOND_IMAGE].reshape(1, 28, 28, 1))[x]\n",
        "  axarr[1,x].imshow(f2[0, : , :, CONVOLUTION_NUMBER], cmap='inferno')\n",
        "  axarr[1,x].grid(False)\n",
        "  f3 = activation_model.predict(test_images[THIRD_IMAGE].reshape(1, 28, 28, 1))[x]\n",
        "  axarr[2,x].imshow(f3[0, : , :, CONVOLUTION_NUMBER], cmap='inferno')\n",
        "  axarr[2,x].grid(False)"
      ],
      "execution_count": 76,
      "outputs": [
        {
          "output_type": "display_data",
          "data": {
            "image/png": "[encoded data removed]",
            "text/plain": [
              "<Figure size 576x396 with 12 Axes>"
            ]
          },
          "metadata": {
            "tags": []
          }
        }
      ]
    },
    {
      "metadata": {
        "id": "_NjjD2dxZ0w1",
        "colab_type": "text"
      },
      "cell_type": "markdown",
      "source": [
        "Displaying all convolutions"
      ]
    },
    {
      "metadata": {
        "id": "O4EBX-MsZ4Yv",
        "colab_type": "code",
        "colab": {
          "base_uri": "https://localhost:8080/",
          "height": 1043
        },
        "outputId": "3113c69e-2a41-4d3e-e666-2ffb3a65e3e3"
      },
      "cell_type": "code",
      "source": [
        "#original image\n",
        "\n",
        "plt.grid(False)\n",
        "plt.rcParams[\"figure.figsize\"] = [3,4] \n",
        "plt.imshow(np.squeeze(test_images[FIRST_IMAGE]))\n"
      ],
      "execution_count": 116,
      "outputs": [
        {
          "output_type": "execute_result",
          "data": {
            "text/plain": [
              "<matplotlib.image.AxesImage at 0x7fe9dc4d3978>"
            ]
          },
          "metadata": {
            "tags": []
          },
          "execution_count": 116
        },
        {
          "output_type": "display_data",
          "data": {
            "image/png": "[encoded data removed]",
            "text/plain": [
              "<Figure size 2304x1296 with 1 Axes>"
            ]
          },
          "metadata": {
            "tags": []
          }
        }
      ]
    },
    {
      "metadata": {
        "id": "jHWh82OCaxzi",
        "colab_type": "code",
        "colab": {
          "base_uri": "https://localhost:8080/",
          "height": 34
        },
        "outputId": "24716758-91bb-476c-8b2c-62a02c2a3ddc"
      },
      "cell_type": "code",
      "source": [
        "convolutions = activation_model.predict(test_images[FIRST_IMAGE].reshape(1, 28, 28, 1))[0].shape[3]\n",
        "print (convolutions)"
      ],
      "execution_count": 104,
      "outputs": [
        {
          "output_type": "stream",
          "text": [
            "64\n"
          ],
          "name": "stdout"
        }
      ]
    },
    {
      "metadata": {
        "id": "oFeQUFz7aXXv",
        "colab_type": "code",
        "colab": {
          "base_uri": "https://localhost:8080/",
          "height": 557
        },
        "outputId": "f821d4b4-0a34-44b1-f69d-b3fb2d753cef"
      },
      "cell_type": "code",
      "source": [
        "#TODO: redefine this plt as a fn to easily pass in model and img_num\n",
        "\n",
        "#the first convolutions, iterating over CONVOLUTION_NUMBER from example above\n",
        "#new plot figure, f, with axis array, axarr:\n",
        "#convolutions are powers of 2 (not universally true, but for this workbook yes)\n",
        "Nr = int(convolutions ** .5)\n",
        "Nc = int(convolutions / Nr) #so if 32, it'll be 5x7\n",
        "if(convolutions % Nr != 0): Nc+=1\n",
        "f, axarr = plt.subplots(Nr, Nc)\n",
        "\n",
        "\n",
        "#from tensorflow.keras import models\n",
        "\n",
        "#extracting the different layers of the model to be able to visualize all 4 layers (0:CNN,1:Pool,2:CNN,3:Pool)\n",
        "#layer_outputs = [layer.output for layer in model.layers]\n",
        "#activation_model = tf.keras.models.Model(inputs = model.input, outputs = layer_outputs)\n",
        "\n",
        "\n",
        "plt.rcParams[\"figure.figsize\"] = [32,18] \n",
        "#for x in range(convolutions): #iterate over the first 4 layers #edited range(0,4) to range(4), same thing\n",
        "for x in range(Nr):\n",
        "  for y in range(Nc):\n",
        "    f1 = activation_model.predict(test_images[FIRST_IMAGE].reshape(1, 28, 28, 1))[0]\n",
        "    axarr[x,y].imshow(f1[0, : , :, x*Nc+y], cmap='inferno') #believe there are 64 here\n",
        "    axarr[x,y].grid(False)\n",
        "\n",
        "plt.show()"
      ],
      "execution_count": 113,
      "outputs": [
        {
          "output_type": "stream",
          "text": [
            "8 8\n"
          ],
          "name": "stdout"
        },
        {
          "output_type": "display_data",
          "data": {
            "image/png": "[encoded data removed]",
            "text/plain": [
              "<Figure size 1152x648 with 64 Axes>"
            ]
          },
          "metadata": {
            "tags": []
          }
        }
      ]
    },
    {
      "metadata": {
        "id": "8KVPZqgHo5Ux",
        "colab_type": "text"
      },
      "cell_type": "markdown",
      "source": [
        "EXERCISES\n",
        "\n",
        "1. Try editing the convolutions. Change the 32s to either 16 or 64. What impact will this have on accuracy and/or training time.\n",
        "  \n",
        "  **A: Before change**, assume fewer convolutions will mean faster and less accurate and vice versa.\n",
        "      **After change**: Going w/ 16 vs the original 64 (despite the questions assertion it was 32) makes it go slightly faster and definitely less accurate (epoch 11 accuracy on training data is .931 w/ 16 vs .966 w/ 64). The end result is lower loss (yay) but lower accuracy (.9 vs .91) on the validation data.\n",
        "\n",
        "2. Remove the final Convolution. What impact will this have on accuracy or training time?\n",
        "  \n",
        "  **A:** I'm assuming the 2nd pool is considered the final convolution. Removing it means the data for the Deep Neural Network (DNN) will be 4x larger, so I'd expect runtime to drastically increase. However, the end result might be more accurate since we're removing some data loss from pooling. Also, from the investigatory images above of the different convolutions, the fourth layer might be too abstract, so removing it could also benefit accuracy.\n",
        "  **After Running**: Accuracy was lower than 4 convolutions and 64 convolutions (in the conv2d convolutions). Loss higher than both previous models.\n",
        "\n",
        "3. How about adding more Convolutions? What impact do you think this will have? Experiment with it.\n",
        "  \n",
        "  **A:** Adding more convolutions will not necessarily improve the model. From our visualizations of a small sample of the convolution layers above, the fourth convolution (the 2nd pool) has fairly abstract data. Adding more convolutions to further identify edges or further pool data down will likely abstract too far and remove intelligible signals (the fourth pool outputs a 5x5 image! Further pooling will reduce to a single pixel!)\n",
        "**After**: When upping the convolutions per conv2D I get less accuracy on training data at epoch 20 but similar accuracy on test data indicating this is a better a model and the one in Ex2 is relatively overfit. Surprised I can have such high accuracy with a 3x3 x64 input layer to the DNN\n",
        "\n",
        "4. Remove all Convolutions but the first. What impact do you think this will have? Experiment with it. \n",
        "\n",
        "  **A:** Certainly processing will take longer as input to the DNN will be 64x larger at least (28x28 vs 5x5 so really 31x). It's possible a single layer of convolutions is good enough to isolate the edges necessary to have a high accuracy model since the images are so simplistic, so accuracy could potentially increase. \n",
        "  **After:** Loss is pretty high on test data, while accuracy goes from 99% for epoch 20 training data to 91% for test data indicating some overfitting. Loss is higher on test data than the first layer of training data!!!\n",
        "\n",
        "5. In the previous lesson you implemented a callback to check on the loss function and to cancel training once it hit a certain amount. See if you can implement that here! \n",
        "\n",
        "  **A** Dumb mistake, didn't flip the < to > from loss to accuracy so took me awhile to implement. Otherwise fairly straightforward copypasta from last workbook"
      ]
    },
    {
      "metadata": {
        "id": "HGNf6_AxaMis",
        "colab_type": "code",
        "colab": {}
      },
      "cell_type": "code",
      "source": [
        "#data loading and reshaping\n",
        "mnist = tf.keras.datasets.fashion_mnist\n",
        "(training_images, training_labels), (test_images, test_labels) = mnist.load_data()\n",
        "training_images=training_images.reshape(60000, 28, 28, 1)\n",
        "training_images=training_images / 255.0\n",
        "test_images = test_images.reshape(10000, 28, 28, 1)\n",
        "test_images=test_images/255.0"
      ],
      "execution_count": 0,
      "outputs": []
    },
    {
      "metadata": {
        "id": "9GZO3OJeHysD",
        "colab_type": "text"
      },
      "cell_type": "markdown",
      "source": [
        "### Exercise 1"
      ]
    },
    {
      "metadata": {
        "id": "U_6_CllgIDNg",
        "colab_type": "code",
        "colab": {}
      },
      "cell_type": "code",
      "source": [
        "#Saving original model as model64\n",
        "model64 = model"
      ],
      "execution_count": 0,
      "outputs": []
    },
    {
      "metadata": {
        "id": "Mb7YuLSxH1xt",
        "colab_type": "code",
        "colab": {}
      },
      "cell_type": "code",
      "source": [
        "#import tensorflow as tf\n",
        "#print(tf.__version__)\n",
        "\n",
        "#data loading and reshaping - done above\n",
        "\n",
        "#model compilation and fit\n",
        "model16 = tf.keras.models.Sequential([\n",
        "  tf.keras.layers.Conv2D(16, (3,3), activation='relu', input_shape=(28, 28, 1)),\n",
        "  tf.keras.layers.MaxPooling2D(2, 2),\n",
        "  tf.keras.layers.Conv2D(16, (3,3), activation='relu'),\n",
        "  tf.keras.layers.MaxPooling2D(2,2),\n",
        "  tf.keras.layers.Flatten(),\n",
        "  tf.keras.layers.Dense(128, activation='relu'),\n",
        "  tf.keras.layers.Dense(10, activation='softmax')\n",
        "])\n",
        "model16.compile(optimizer='adam', loss='sparse_categorical_crossentropy', metrics=['accuracy'])\n",
        "model16.summary()\n",
        "model16.fit(training_images, training_labels, epochs=20)\n",
        "\n",
        "#basic model evaluation\n",
        "(test_loss, test_acc) = model16.evaluate(test_images, test_labels)\n"
      ],
      "execution_count": 0,
      "outputs": []
    },
    {
      "metadata": {
        "id": "5IyaPnSKNFiV",
        "colab_type": "text"
      },
      "cell_type": "markdown",
      "source": [
        "### Exercise 2"
      ]
    },
    {
      "metadata": {
        "id": "aGoLOKguNCnL",
        "colab_type": "code",
        "colab": {
          "base_uri": "https://localhost:8080/",
          "height": 1037
        },
        "outputId": "3516b901-6f9c-4d39-93de-0eecd66a430a"
      },
      "cell_type": "code",
      "source": [
        "## remove the final convolution ##\n",
        "\n",
        "#data loading and reshaping\n",
        "# loaded and normalize above: training_images, training_labels, test_images, test_lables\n",
        "\n",
        "#model compilation and fit\n",
        "model_3convs = tf.keras.models.Sequential([\n",
        "  tf.keras.layers.Conv2D(16, (3,3), activation='relu', input_shape=(28, 28, 1)),\n",
        "  tf.keras.layers.MaxPooling2D(2, 2),\n",
        "  tf.keras.layers.Conv2D(16, (3,3), activation='relu'),\n",
        "  #tf.keras.layers.MaxPooling2D(2,2),\n",
        "  tf.keras.layers.Flatten(), \n",
        "  tf.keras.layers.Dense(128, activation='relu'), # hidden layer\n",
        "  tf.keras.layers.Dense(10, activation='softmax') # output layer (softmax basically = max)\n",
        "])\n",
        "model_3convs.compile(optimizer='adam', loss='sparse_categorical_crossentropy', metrics=['accuracy'])\n",
        "model_3convs.summary()\n",
        "model_3convs.fit(training_images, training_labels, epochs=20)\n",
        "\n",
        "#basic model evaluation\n",
        "(test_loss, test_acc) = model_3convs.evaluate(test_images, test_labels)\n"
      ],
      "execution_count": 89,
      "outputs": [
        {
          "output_type": "stream",
          "text": [
            "_________________________________________________________________\n",
            "Layer (type)                 Output Shape              Param #   \n",
            "=================================================================\n",
            "conv2d_13 (Conv2D)           (None, 26, 26, 16)        160       \n",
            "_________________________________________________________________\n",
            "max_pooling2d_13 (MaxPooling (None, 13, 13, 16)        0         \n",
            "_________________________________________________________________\n",
            "conv2d_14 (Conv2D)           (None, 11, 11, 16)        2320      \n",
            "_________________________________________________________________\n",
            "flatten_11 (Flatten)         (None, 1936)              0         \n",
            "_________________________________________________________________\n",
            "dense_22 (Dense)             (None, 128)               247936    \n",
            "_________________________________________________________________\n",
            "dense_23 (Dense)             (None, 10)                1290      \n",
            "=================================================================\n",
            "Total params: 251,706\n",
            "Trainable params: 251,706\n",
            "Non-trainable params: 0\n",
            "_________________________________________________________________\n",
            "Epoch 1/20\n",
            "60000/60000 [==============================] - 12s 207us/sample - loss: 0.4197 - acc: 0.8510\n",
            "Epoch 2/20\n",
            "60000/60000 [==============================] - 12s 202us/sample - loss: 0.2778 - acc: 0.8991\n",
            "Epoch 3/20\n",
            "60000/60000 [==============================] - 12s 203us/sample - loss: 0.2344 - acc: 0.9135\n",
            "Epoch 4/20\n",
            "60000/60000 [==============================] - 12s 203us/sample - loss: 0.2017 - acc: 0.9250\n",
            "Epoch 5/20\n",
            "60000/60000 [==============================] - 12s 202us/sample - loss: 0.1768 - acc: 0.9337\n",
            "Epoch 6/20\n",
            "60000/60000 [==============================] - 12s 203us/sample - loss: 0.1517 - acc: 0.9437\n",
            "Epoch 7/20\n",
            "60000/60000 [==============================] - 12s 202us/sample - loss: 0.1323 - acc: 0.9514\n",
            "Epoch 8/20\n",
            "60000/60000 [==============================] - 12s 202us/sample - loss: 0.1135 - acc: 0.9579\n",
            "Epoch 9/20\n",
            "60000/60000 [==============================] - 12s 202us/sample - loss: 0.0966 - acc: 0.9643\n",
            "Epoch 10/20\n",
            "60000/60000 [==============================] - 12s 204us/sample - loss: 0.0805 - acc: 0.9698\n",
            "Epoch 11/20\n",
            "60000/60000 [==============================] - 12s 203us/sample - loss: 0.0705 - acc: 0.9734\n",
            "Epoch 12/20\n",
            "60000/60000 [==============================] - 12s 203us/sample - loss: 0.0596 - acc: 0.9777\n",
            "Epoch 13/20\n",
            "60000/60000 [==============================] - 12s 202us/sample - loss: 0.0494 - acc: 0.9820\n",
            "Epoch 14/20\n",
            "60000/60000 [==============================] - 12s 202us/sample - loss: 0.0426 - acc: 0.9843\n",
            "Epoch 15/20\n",
            "60000/60000 [==============================] - 12s 203us/sample - loss: 0.0398 - acc: 0.9853\n",
            "Epoch 16/20\n",
            "60000/60000 [==============================] - 12s 203us/sample - loss: 0.0350 - acc: 0.9875\n",
            "Epoch 17/20\n",
            "60000/60000 [==============================] - 12s 202us/sample - loss: 0.0307 - acc: 0.9890\n",
            "Epoch 18/20\n",
            "60000/60000 [==============================] - 12s 203us/sample - loss: 0.0277 - acc: 0.9897\n",
            "Epoch 19/20\n",
            "60000/60000 [==============================] - 12s 202us/sample - loss: 0.0254 - acc: 0.9910\n",
            "Epoch 20/20\n",
            "60000/60000 [==============================] - 12s 203us/sample - loss: 0.0237 - acc: 0.9913\n",
            "10000/10000 [==============================] - 1s 95us/sample - loss: 0.5050 - acc: 0.9101\n"
          ],
          "name": "stdout"
        }
      ]
    },
    {
      "metadata": {
        "id": "Cddq23aURsBm",
        "colab_type": "text"
      },
      "cell_type": "markdown",
      "source": [
        "###Exercise 3"
      ]
    },
    {
      "metadata": {
        "id": "MEY3fc9URu4j",
        "colab_type": "code",
        "colab": {
          "base_uri": "https://localhost:8080/",
          "height": 1105
        },
        "outputId": "85d5c9ac-d3e0-4049-a3f1-6829ad12eb14"
      },
      "cell_type": "code",
      "source": [
        "## Add more convolutions - \n",
        "  #2nd pool already outputs 5x5, so likely more conv's will result in data loss\n",
        "\n",
        "# loaded and normalize above: training_images, training_labels, test_images, test_lables\n",
        "\n",
        "#going back to 64 convolutions per and expanding first conv2D to 5x5 per pixel\n",
        "  #so first layer will output 24x24 not 26x26\n",
        "  #24x24 pooled down will be 12x12 not 13x13, then conv2D'ed will be 10x10; \n",
        "  #then pooled again, 5x5! \n",
        "  #Conv2D'ed once more: 3x3!!!!!!\n",
        "model_5convs = tf.keras.models.Sequential([\n",
        "  tf.keras.layers.Conv2D(64, (5,5), activation='relu', input_shape=(28, 28, 1)),\n",
        "  tf.keras.layers.MaxPooling2D(2, 2),\n",
        "  tf.keras.layers.Conv2D(64, (3,3), activation='relu'),\n",
        "  tf.keras.layers.MaxPooling2D(2,2),\n",
        "  tf.keras.layers.Conv2D(64, (3,3), activation='relu'), # is this possible on a 5x5? \n",
        "  tf.keras.layers.Flatten(), \n",
        "  tf.keras.layers.Dense(128, activation='relu'), # hidden layer\n",
        "  tf.keras.layers.Dense(10, activation='softmax') # output layer (softmax basically = max)\n",
        "])\n",
        "model_5convs.compile(optimizer='adam', loss='sparse_categorical_crossentropy', metrics=['accuracy'])\n",
        "model_5convs.summary()\n",
        "model_5convs.fit(training_images, training_labels, epochs=20)\n",
        "\n",
        "#basic model evaluation\n",
        "(test_loss, test_acc) = model_5convs.evaluate(test_images, test_labels)\n"
      ],
      "execution_count": 90,
      "outputs": [
        {
          "output_type": "stream",
          "text": [
            "_________________________________________________________________\n",
            "Layer (type)                 Output Shape              Param #   \n",
            "=================================================================\n",
            "conv2d_15 (Conv2D)           (None, 24, 24, 64)        1664      \n",
            "_________________________________________________________________\n",
            "max_pooling2d_14 (MaxPooling (None, 12, 12, 64)        0         \n",
            "_________________________________________________________________\n",
            "conv2d_16 (Conv2D)           (None, 10, 10, 64)        36928     \n",
            "_________________________________________________________________\n",
            "max_pooling2d_15 (MaxPooling (None, 5, 5, 64)          0         \n",
            "_________________________________________________________________\n",
            "conv2d_17 (Conv2D)           (None, 3, 3, 64)          36928     \n",
            "_________________________________________________________________\n",
            "flatten_12 (Flatten)         (None, 576)               0         \n",
            "_________________________________________________________________\n",
            "dense_24 (Dense)             (None, 128)               73856     \n",
            "_________________________________________________________________\n",
            "dense_25 (Dense)             (None, 10)                1290      \n",
            "=================================================================\n",
            "Total params: 150,666\n",
            "Trainable params: 150,666\n",
            "Non-trainable params: 0\n",
            "_________________________________________________________________\n",
            "Epoch 1/20\n",
            "60000/60000 [==============================] - 16s 261us/sample - loss: 0.4722 - acc: 0.8262\n",
            "Epoch 2/20\n",
            "60000/60000 [==============================] - 15s 256us/sample - loss: 0.3055 - acc: 0.8881\n",
            "Epoch 3/20\n",
            "60000/60000 [==============================] - 15s 256us/sample - loss: 0.2635 - acc: 0.9026\n",
            "Epoch 4/20\n",
            "60000/60000 [==============================] - 15s 255us/sample - loss: 0.2326 - acc: 0.9143\n",
            "Epoch 5/20\n",
            "60000/60000 [==============================] - 15s 256us/sample - loss: 0.2098 - acc: 0.9226\n",
            "Epoch 6/20\n",
            "60000/60000 [==============================] - 15s 255us/sample - loss: 0.1883 - acc: 0.9300\n",
            "Epoch 7/20\n",
            "60000/60000 [==============================] - 15s 255us/sample - loss: 0.1715 - acc: 0.9362\n",
            "Epoch 8/20\n",
            "60000/60000 [==============================] - 15s 255us/sample - loss: 0.1560 - acc: 0.9410\n",
            "Epoch 9/20\n",
            "60000/60000 [==============================] - 15s 255us/sample - loss: 0.1443 - acc: 0.9461\n",
            "Epoch 10/20\n",
            "60000/60000 [==============================] - 15s 256us/sample - loss: 0.1300 - acc: 0.9502\n",
            "Epoch 11/20\n",
            "60000/60000 [==============================] - 15s 255us/sample - loss: 0.1219 - acc: 0.9532\n",
            "Epoch 12/20\n",
            "60000/60000 [==============================] - 15s 255us/sample - loss: 0.1137 - acc: 0.9570\n",
            "Epoch 13/20\n",
            "60000/60000 [==============================] - 15s 256us/sample - loss: 0.1019 - acc: 0.9612\n",
            "Epoch 14/20\n",
            "60000/60000 [==============================] - 15s 257us/sample - loss: 0.0935 - acc: 0.9648\n",
            "Epoch 15/20\n",
            "60000/60000 [==============================] - 15s 255us/sample - loss: 0.0877 - acc: 0.9666\n",
            "Epoch 16/20\n",
            "60000/60000 [==============================] - 15s 255us/sample - loss: 0.0821 - acc: 0.9681\n",
            "Epoch 17/20\n",
            "60000/60000 [==============================] - 15s 256us/sample - loss: 0.0765 - acc: 0.9702\n",
            "Epoch 18/20\n",
            "60000/60000 [==============================] - 15s 256us/sample - loss: 0.0740 - acc: 0.9719\n",
            "Epoch 19/20\n",
            "60000/60000 [==============================] - 15s 256us/sample - loss: 0.0706 - acc: 0.9736\n",
            "Epoch 20/20\n",
            "60000/60000 [==============================] - 15s 255us/sample - loss: 0.0649 - acc: 0.9760\n",
            "10000/10000 [==============================] - 1s 122us/sample - loss: 0.4106 - acc: 0.9108\n"
          ],
          "name": "stdout"
        }
      ]
    },
    {
      "metadata": {
        "id": "i1x400CKRvXL",
        "colab_type": "text"
      },
      "cell_type": "markdown",
      "source": [
        "###Exercise 4"
      ]
    },
    {
      "metadata": {
        "id": "zOnjXLwxUJi4",
        "colab_type": "code",
        "colab": {
          "base_uri": "https://localhost:8080/",
          "height": 1003
        },
        "outputId": "3cfc5b43-744f-42ea-b333-997ddffd8325"
      },
      "cell_type": "code",
      "source": [
        "## Remove all but first!\n",
        "\n",
        "# loaded and normalize above: training_images, training_labels, test_images, test_lables\n",
        "\n",
        "#what'll be diff b/t 7x7, 5x5, and 3x3. 7x7 seems overkill for finding edges\n",
        "model_1conv = tf.keras.models.Sequential([\n",
        "  tf.keras.layers.Conv2D(64, (5,5), activation='relu', input_shape=(28, 28, 1)),\n",
        "  tf.keras.layers.MaxPooling2D(2, 2),\n",
        "  tf.keras.layers.Flatten(), \n",
        "  tf.keras.layers.Dense(128, activation='relu'), # hidden layer\n",
        "  tf.keras.layers.Dense(10, activation='softmax') # output layer (softmax basically = max)\n",
        "])\n",
        "model_1conv.compile(optimizer='adam', loss='sparse_categorical_crossentropy', metrics=['accuracy'])\n",
        "model_1conv.summary()\n",
        "model_1conv.fit(training_images, training_labels, epochs=20)\n",
        "\n",
        "#basic model evaluation\n",
        "(test_loss, test_acc) = model_1conv.evaluate(test_images, test_labels)\n"
      ],
      "execution_count": 91,
      "outputs": [
        {
          "output_type": "stream",
          "text": [
            "_________________________________________________________________\n",
            "Layer (type)                 Output Shape              Param #   \n",
            "=================================================================\n",
            "conv2d_18 (Conv2D)           (None, 24, 24, 64)        1664      \n",
            "_________________________________________________________________\n",
            "max_pooling2d_16 (MaxPooling (None, 12, 12, 64)        0         \n",
            "_________________________________________________________________\n",
            "flatten_13 (Flatten)         (None, 9216)              0         \n",
            "_________________________________________________________________\n",
            "dense_26 (Dense)             (None, 128)               1179776   \n",
            "_________________________________________________________________\n",
            "dense_27 (Dense)             (None, 10)                1290      \n",
            "=================================================================\n",
            "Total params: 1,182,730\n",
            "Trainable params: 1,182,730\n",
            "Non-trainable params: 0\n",
            "_________________________________________________________________\n",
            "Epoch 1/20\n",
            "60000/60000 [==============================] - 13s 217us/sample - loss: 0.4069 - acc: 0.8544\n",
            "Epoch 2/20\n",
            "60000/60000 [==============================] - 13s 215us/sample - loss: 0.2792 - acc: 0.8983\n",
            "Epoch 3/20\n",
            "60000/60000 [==============================] - 13s 215us/sample - loss: 0.2323 - acc: 0.9145\n",
            "Epoch 4/20\n",
            "60000/60000 [==============================] - 13s 215us/sample - loss: 0.2004 - acc: 0.9259\n",
            "Epoch 5/20\n",
            "60000/60000 [==============================] - 13s 214us/sample - loss: 0.1719 - acc: 0.9356\n",
            "Epoch 6/20\n",
            "60000/60000 [==============================] - 13s 214us/sample - loss: 0.1486 - acc: 0.9437\n",
            "Epoch 7/20\n",
            "60000/60000 [==============================] - 13s 214us/sample - loss: 0.1251 - acc: 0.9535\n",
            "Epoch 8/20\n",
            "60000/60000 [==============================] - 13s 215us/sample - loss: 0.1086 - acc: 0.9583\n",
            "Epoch 9/20\n",
            "60000/60000 [==============================] - 13s 215us/sample - loss: 0.0917 - acc: 0.9656\n",
            "Epoch 10/20\n",
            "60000/60000 [==============================] - 13s 213us/sample - loss: 0.0796 - acc: 0.9697\n",
            "Epoch 11/20\n",
            "60000/60000 [==============================] - 13s 214us/sample - loss: 0.0707 - acc: 0.9732\n",
            "Epoch 12/20\n",
            "60000/60000 [==============================] - 13s 214us/sample - loss: 0.0610 - acc: 0.9776\n",
            "Epoch 13/20\n",
            "60000/60000 [==============================] - 13s 214us/sample - loss: 0.0520 - acc: 0.9805\n",
            "Epoch 14/20\n",
            "60000/60000 [==============================] - 13s 214us/sample - loss: 0.0455 - acc: 0.9836\n",
            "Epoch 15/20\n",
            "60000/60000 [==============================] - 13s 213us/sample - loss: 0.0427 - acc: 0.9842\n",
            "Epoch 16/20\n",
            "60000/60000 [==============================] - 13s 214us/sample - loss: 0.0371 - acc: 0.9867\n",
            "Epoch 17/20\n",
            "60000/60000 [==============================] - 13s 213us/sample - loss: 0.0347 - acc: 0.9870\n",
            "Epoch 18/20\n",
            "60000/60000 [==============================] - 13s 214us/sample - loss: 0.0290 - acc: 0.9895\n",
            "Epoch 19/20\n",
            "60000/60000 [==============================] - 13s 213us/sample - loss: 0.0276 - acc: 0.9902\n",
            "Epoch 20/20\n",
            "60000/60000 [==============================] - 13s 214us/sample - loss: 0.0273 - acc: 0.9903\n",
            "10000/10000 [==============================] - 1s 104us/sample - loss: 0.4898 - acc: 0.9129\n"
          ],
          "name": "stdout"
        }
      ]
    },
    {
      "metadata": {
        "id": "iigZQ_JgNDkW",
        "colab_type": "text"
      },
      "cell_type": "markdown",
      "source": [
        "### Exercise 5"
      ]
    },
    {
      "metadata": {
        "id": "it4w7LEBXqO7",
        "colab_type": "code",
        "colab": {}
      },
      "cell_type": "code",
      "source": [
        "#code from last workbook\n",
        "class myCallback(tf.keras.callbacks.Callback):\n",
        "  def on_epoch_end(self, epoch, logs={}):\n",
        "    if(logs.get('acc')<0.99):\n",
        "      print(\"\\nReached 99% accuracy so cancelling training!\")\n",
        "      self.model.stop_training = True\n",
        "\n",
        "callbacks = myCallback()\n",
        "model = tf.keras.models.Sequential([\n",
        "    tf.keras.layers.Flatten(),  #flatten 28x28 img into 784x1 array\n",
        "    tf.keras.layers.Dense(512, activation=tf.nn.relu),  #512 worked most efficiently on fashion data, trying\n",
        "    tf.keras.layers.Dense(10, activation=tf.nn.softmax)  #softmax is basically a max fn\n",
        "])\n",
        "\n",
        "model.compile(optimizer='adam',\n",
        "              loss='sparse_categorical_crossentropy',\n",
        "              metrics=['accuracy'])\n",
        "\n",
        "model.fit(x_train, y_train, epochs=10, callbacks=[callbacks])\n",
        "\n",
        "model.evaluate(x_test, y_test)"
      ],
      "execution_count": 0,
      "outputs": []
    },
    {
      "metadata": {
        "id": "ZpYRidBXpBPM",
        "colab_type": "code",
        "outputId": "e9988cbd-aa92-484a-8ac3-4005568bffbe",
        "colab": {
          "base_uri": "https://localhost:8080/",
          "height": 119
        }
      },
      "cell_type": "code",
      "source": [
        "ACCURACY = 0.9\n",
        "LOSS = 0.3\n",
        "METRIC = \"accuracy\"\n",
        "EPOCHS = 10\n",
        "\n",
        "#import tensorflow as tf\n",
        "#print(tf.__version__)\n",
        "\n",
        "#data loaded and normalized above: test_images, training_images, test_labels, training_labels\n",
        "\n",
        "\n",
        "class myCallback(tf.keras.callbacks.Callback):\n",
        "  def on_epoch_end(self, epoch, logs={}):\n",
        "    if(logs.get('acc')>0.90):\n",
        "    #if(logs.get('loss')<0.3):\n",
        "      #print(\"\\nReached \" +str(ACCURACY) + \"% \"+METRIC+\" so cancelling training!\")\n",
        "      print(\"\\nReached 90% accuracy so cancelling training!\")\n",
        "      self.model.stop_training = True\n",
        "\n",
        "\n",
        "callbacks = myCallback()\n",
        "model_callback = tf.keras.models.Sequential([\n",
        "  tf.keras.layers.Conv2D(32, (3,3), activation='relu', input_shape=(28, 28, 1)),\n",
        "  tf.keras.layers.MaxPooling2D(2, 2),\n",
        "  tf.keras.layers.Conv2D(32, (3,3), activation='relu'),\n",
        "  tf.keras.layers.MaxPooling2D(2, 2),\n",
        "  tf.keras.layers.Flatten(),\n",
        "  tf.keras.layers.Dense(128, activation='relu'),\n",
        "  tf.keras.layers.Dense(10, activation='softmax')\n",
        "])\n",
        "\n",
        "model_callback.compile(optimizer='adam', loss='sparse_categorical_crossentropy', metrics=['accuracy'])\n",
        "model_callback.fit(training_images, training_labels, epochs=EPOCHS, callbacks=[callbacks])\n",
        "\n",
        "test_loss, test_acc = model_callback.evaluate(test_images, test_labels)\n",
        "print(test_acc)"
      ],
      "execution_count": 94,
      "outputs": [
        {
          "output_type": "stream",
          "text": [
            "Epoch 1/10\n",
            "59744/60000 [============================>.] - ETA: 0s - loss: 0.1421 - acc: 0.9561\n",
            "Reached 90% accuracy so cancelling training!\n",
            "60000/60000 [==============================] - 13s 209us/sample - loss: 0.1418 - acc: 0.9562\n",
            "10000/10000 [==============================] - 1s 111us/sample - loss: 0.0500 - acc: 0.9831\n",
            "0.9831\n"
          ],
          "name": "stdout"
        }
      ]
    }
  ]
}